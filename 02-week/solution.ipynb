{
 "cells": [
  {
   "cell_type": "markdown",
   "id": "b009602d",
   "metadata": {},
   "source": [
    "# 1"
   ]
  },
  {
   "cell_type": "code",
   "execution_count": 2,
   "id": "4b77977d",
   "metadata": {
    "ExecuteTime": {
     "end_time": "2022-05-30T22:09:54.196798Z",
     "start_time": "2022-05-30T22:09:53.222926Z"
    }
   },
   "outputs": [
    {
     "name": "stdout",
     "output_type": "stream",
     "text": [
      "mlflow, version 1.26.0\r\n"
     ]
    }
   ],
   "source": [
    "! mlflow --version"
   ]
  },
  {
   "cell_type": "markdown",
   "id": "5e2cdfa9",
   "metadata": {},
   "source": [
    "# 2"
   ]
  },
  {
   "cell_type": "code",
   "execution_count": 23,
   "id": "3974c66b",
   "metadata": {
    "ExecuteTime": {
     "end_time": "2022-05-30T22:28:06.431137Z",
     "start_time": "2022-05-30T22:28:06.289341Z"
    }
   },
   "outputs": [
    {
     "name": "stdout",
     "output_type": "stream",
     "text": [
      "dv.pkl    test.pkl  train.pkl valid.pkl\r\n"
     ]
    }
   ],
   "source": [
    "! ls output"
   ]
  },
  {
   "cell_type": "code",
   "execution_count": 24,
   "id": "da144161",
   "metadata": {
    "ExecuteTime": {
     "end_time": "2022-05-30T22:28:07.038492Z",
     "start_time": "2022-05-30T22:28:06.883734Z"
    }
   },
   "outputs": [
    {
     "name": "stdout",
     "output_type": "stream",
     "text": [
      "       4\r\n"
     ]
    }
   ],
   "source": [
    "! ls output | wc -l"
   ]
  },
  {
   "cell_type": "markdown",
   "id": "2daa3eec",
   "metadata": {},
   "source": [
    "# 3"
   ]
  },
  {
   "cell_type": "code",
   "execution_count": 25,
   "id": "6c1c8956",
   "metadata": {
    "ExecuteTime": {
     "end_time": "2022-05-30T22:35:47.376892Z",
     "start_time": "2022-05-30T22:35:29.588168Z"
    }
   },
   "outputs": [],
   "source": [
    "! python train.py"
   ]
  },
  {
   "cell_type": "code",
   "execution_count": 43,
   "id": "5c0d370b",
   "metadata": {
    "ExecuteTime": {
     "end_time": "2022-05-30T22:38:13.345705Z",
     "start_time": "2022-05-30T22:38:13.202413Z"
    }
   },
   "outputs": [
    {
     "name": "stdout",
     "output_type": "stream",
     "text": [
      "bootstrap                max_samples              n_jobs\r\n",
      "ccp_alpha                min_impurity_decrease    oob_score\r\n",
      "criterion                min_samples_leaf         random_state\r\n",
      "max_depth                min_samples_split        verbose\r\n",
      "max_features             min_weight_fraction_leaf warm_start\r\n",
      "max_leaf_nodes           n_estimators\r\n"
     ]
    }
   ],
   "source": [
    "! ls mlruns/0/bd0f080a3112488580e23559eb30d4eb/params/"
   ]
  },
  {
   "cell_type": "code",
   "execution_count": 44,
   "id": "81673ba6",
   "metadata": {
    "ExecuteTime": {
     "end_time": "2022-05-30T22:38:57.442779Z",
     "start_time": "2022-05-30T22:38:57.285892Z"
    }
   },
   "outputs": [
    {
     "name": "stdout",
     "output_type": "stream",
     "text": [
      "      17\r\n"
     ]
    }
   ],
   "source": [
    "! ls mlruns/0/bd0f080a3112488580e23559eb30d4eb/params/ | wc -l"
   ]
  },
  {
   "cell_type": "markdown",
   "id": "a264309b",
   "metadata": {},
   "source": [
    "# 4"
   ]
  },
  {
   "cell_type": "code",
   "execution_count": null,
   "id": "c76f5023",
   "metadata": {},
   "outputs": [],
   "source": [
    "! mlflow server --backend-store-uri sqlite:///backend.db default-artifact-root ./artifacts_local"
   ]
  },
  {
   "cell_type": "code",
   "execution_count": null,
   "id": "c5c369e4",
   "metadata": {},
   "outputs": [],
   "source": [
    "default-artifact-root"
   ]
  },
  {
   "cell_type": "markdown",
   "id": "377750f6",
   "metadata": {},
   "source": [
    "# 5"
   ]
  },
  {
   "cell_type": "code",
   "execution_count": 47,
   "id": "744e0356",
   "metadata": {
    "ExecuteTime": {
     "end_time": "2022-05-30T22:56:20.183424Z",
     "start_time": "2022-05-30T22:53:31.620878Z"
    }
   },
   "outputs": [
    {
     "name": "stdout",
     "output_type": "stream",
     "text": [
      "2022/05/31 01:53:32 INFO mlflow.tracking.fluent: Experiment with name 'random-forest-hyperopt' does not exist. Creating a new experiment.\n",
      "100%|█████████| 50/50 [02:46<00:00,  3.34s/trial, best loss: 6.6284257482044735]\n"
     ]
    }
   ],
   "source": [
    "! python hpo.py"
   ]
  },
  {
   "cell_type": "code",
   "execution_count": 48,
   "id": "0c69ddd6",
   "metadata": {
    "ExecuteTime": {
     "end_time": "2022-05-30T22:58:22.352220Z",
     "start_time": "2022-05-30T22:58:22.338090Z"
    }
   },
   "outputs": [
    {
     "data": {
      "text/plain": [
       "6.628"
      ]
     },
     "execution_count": 48,
     "metadata": {},
     "output_type": "execute_result"
    }
   ],
   "source": [
    "6.628"
   ]
  },
  {
   "cell_type": "markdown",
   "id": "13751b77",
   "metadata": {},
   "source": [
    "# 6"
   ]
  },
  {
   "cell_type": "code",
   "execution_count": 63,
   "id": "b2b5b9e0",
   "metadata": {
    "ExecuteTime": {
     "end_time": "2022-05-30T23:15:25.378403Z",
     "start_time": "2022-05-30T23:14:47.192821Z"
    }
   },
   "outputs": [
    {
     "name": "stdout",
     "output_type": "stream",
     "text": [
      "Successfully registered model 'nyc-taxi-regressor'.\r\n",
      "2022/05/31 02:15:25 INFO mlflow.tracking._model_registry.client: Waiting up to 300 seconds for model version to finish creation.                     Model name: nyc-taxi-regressor, version 1\r\n",
      "Created version '1' of model 'nyc-taxi-regressor'.\r\n"
     ]
    }
   ],
   "source": [
    "! python register_model.py"
   ]
  },
  {
   "cell_type": "code",
   "execution_count": 64,
   "id": "3b6c18c1",
   "metadata": {
    "ExecuteTime": {
     "end_time": "2022-05-30T23:16:08.343550Z",
     "start_time": "2022-05-30T23:16:08.339387Z"
    }
   },
   "outputs": [
    {
     "data": {
      "text/plain": [
       "6.548"
      ]
     },
     "execution_count": 64,
     "metadata": {},
     "output_type": "execute_result"
    }
   ],
   "source": [
    "6.548"
   ]
  }
 ],
 "metadata": {
  "hide_input": false,
  "kernelspec": {
   "display_name": "Python 3 (ipykernel)",
   "language": "python",
   "name": "python3"
  },
  "language_info": {
   "codemirror_mode": {
    "name": "ipython",
    "version": 3
   },
   "file_extension": ".py",
   "mimetype": "text/x-python",
   "name": "python",
   "nbconvert_exporter": "python",
   "pygments_lexer": "ipython3",
   "version": "3.9.7"
  },
  "varInspector": {
   "cols": {
    "lenName": 16,
    "lenType": 16,
    "lenVar": 40
   },
   "kernels_config": {
    "python": {
     "delete_cmd_postfix": "",
     "delete_cmd_prefix": "del ",
     "library": "var_list.py",
     "varRefreshCmd": "print(var_dic_list())"
    },
    "r": {
     "delete_cmd_postfix": ") ",
     "delete_cmd_prefix": "rm(",
     "library": "var_list.r",
     "varRefreshCmd": "cat(var_dic_list()) "
    }
   },
   "types_to_exclude": [
    "module",
    "function",
    "builtin_function_or_method",
    "instance",
    "_Feature"
   ],
   "window_display": false
  }
 },
 "nbformat": 4,
 "nbformat_minor": 5
}
