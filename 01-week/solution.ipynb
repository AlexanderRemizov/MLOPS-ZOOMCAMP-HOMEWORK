{
 "cells": [
  {
   "cell_type": "markdown",
   "id": "e587ffba",
   "metadata": {},
   "source": [
    "# Module"
   ]
  },
  {
   "cell_type": "code",
   "execution_count": 47,
   "id": "5cfe1d59",
   "metadata": {
    "ExecuteTime": {
     "end_time": "2022-05-18T23:01:33.147368Z",
     "start_time": "2022-05-18T23:01:33.144145Z"
    }
   },
   "outputs": [],
   "source": [
    "import pandas as pd\n",
    "\n",
    "from sklearn.linear_model import LinearRegression\n",
    "from sklearn.feature_extraction import DictVectorizer\n",
    "from sklearn.metrics import mean_squared_error"
   ]
  },
  {
   "cell_type": "markdown",
   "id": "95a0535b",
   "metadata": {},
   "source": [
    "# Data"
   ]
  },
  {
   "cell_type": "code",
   "execution_count": 3,
   "id": "73f6bd20",
   "metadata": {
    "ExecuteTime": {
     "end_time": "2022-05-18T22:42:48.318529Z",
     "start_time": "2022-05-18T22:42:47.912438Z"
    }
   },
   "outputs": [],
   "source": [
    "data_jan = pd.read_parquet('./data/fhv_tripdata_2021-01.parquet')\n",
    "data_feb = pd.read_parquet('./data/fhv_tripdata_2021-02.parquet')"
   ]
  },
  {
   "cell_type": "markdown",
   "id": "1b8d321e",
   "metadata": {},
   "source": [
    "# 1"
   ]
  },
  {
   "cell_type": "code",
   "execution_count": 6,
   "id": "ddad19d8",
   "metadata": {
    "ExecuteTime": {
     "end_time": "2022-05-18T22:43:21.820054Z",
     "start_time": "2022-05-18T22:43:21.815899Z"
    }
   },
   "outputs": [
    {
     "data": {
      "text/plain": [
       "(1154112, 7)"
      ]
     },
     "execution_count": 6,
     "metadata": {},
     "output_type": "execute_result"
    }
   ],
   "source": [
    "data_jan.shape"
   ]
  },
  {
   "cell_type": "markdown",
   "id": "16bcc83d",
   "metadata": {},
   "source": [
    "# 2"
   ]
  },
  {
   "cell_type": "code",
   "execution_count": 12,
   "id": "42862602",
   "metadata": {
    "ExecuteTime": {
     "end_time": "2022-05-18T22:47:26.732033Z",
     "start_time": "2022-05-18T22:47:10.475113Z"
    }
   },
   "outputs": [],
   "source": [
    "data_jan['duration'] = data_jan.apply(\n",
    "    lambda x: (x['dropOff_datetime'] - x['pickup_datetime']).total_seconds() / 60, axis=1\n",
    ")"
   ]
  },
  {
   "cell_type": "code",
   "execution_count": 13,
   "id": "60888b97",
   "metadata": {
    "ExecuteTime": {
     "end_time": "2022-05-18T22:47:27.674975Z",
     "start_time": "2022-05-18T22:47:27.666192Z"
    }
   },
   "outputs": [
    {
     "data": {
      "text/plain": [
       "19.167224093791006"
      ]
     },
     "execution_count": 13,
     "metadata": {},
     "output_type": "execute_result"
    }
   ],
   "source": [
    "data_jan['duration'].mean()"
   ]
  },
  {
   "cell_type": "markdown",
   "id": "2b37fca1",
   "metadata": {
    "ExecuteTime": {
     "end_time": "2022-05-18T22:47:38.444285Z",
     "start_time": "2022-05-18T22:47:38.441576Z"
    }
   },
   "source": [
    "# 3"
   ]
  },
  {
   "cell_type": "code",
   "execution_count": 31,
   "id": "4f232021",
   "metadata": {
    "ExecuteTime": {
     "end_time": "2022-05-18T22:55:08.238034Z",
     "start_time": "2022-05-18T22:55:08.235319Z"
    }
   },
   "outputs": [],
   "source": [
    "data_jan = data_jan[(data_jan['duration'] >= 1) & (data_jan['duration'] <= 60)]\n",
    "\n",
    "data_jan['PUlocationID'] = data_jan['PUlocationID'].fillna('-1')\n",
    "data_jan['DOlocationID'] = data_jan['DOlocationID'].fillna('-1')"
   ]
  },
  {
   "cell_type": "code",
   "execution_count": 22,
   "id": "081724bc",
   "metadata": {
    "ExecuteTime": {
     "end_time": "2022-05-18T22:52:05.752377Z",
     "start_time": "2022-05-18T22:52:05.748512Z"
    }
   },
   "outputs": [
    {
     "data": {
      "text/plain": [
       "0.8352732770722617"
      ]
     },
     "execution_count": 22,
     "metadata": {},
     "output_type": "execute_result"
    }
   ],
   "source": [
    "927008 / data_jan.shape[0]"
   ]
  },
  {
   "cell_type": "markdown",
   "id": "1b8d2eda",
   "metadata": {},
   "source": [
    "# 4"
   ]
  },
  {
   "cell_type": "code",
   "execution_count": null,
   "id": "b68828a9",
   "metadata": {
    "ExecuteTime": {
     "end_time": "2022-05-18T23:31:12.361159Z",
     "start_time": "2022-05-18T23:31:12.361154Z"
    }
   },
   "outputs": [],
   "source": [
    "categorical = ['PUlocationID', 'DOlocationID']\n",
    "\n",
    "data_jan[categorical] = data_jan[categorical].astype(str)\n",
    "\n",
    "train_dicts = data_jan[categorical].to_dict(orient='records')\n",
    "\n",
    "dv = DictVectorizer()\n",
    "X_train = dv.fit_transform(train_dicts)"
   ]
  },
  {
   "cell_type": "code",
   "execution_count": 44,
   "id": "b5c2662f",
   "metadata": {
    "ExecuteTime": {
     "end_time": "2022-05-18T22:58:22.009715Z",
     "start_time": "2022-05-18T22:58:22.004243Z"
    }
   },
   "outputs": [
    {
     "data": {
      "text/plain": [
       "(1109826, 525)"
      ]
     },
     "execution_count": 44,
     "metadata": {},
     "output_type": "execute_result"
    }
   ],
   "source": [
    "X_train.shape"
   ]
  },
  {
   "cell_type": "markdown",
   "id": "934439f2",
   "metadata": {},
   "source": [
    "# 5"
   ]
  },
  {
   "cell_type": "code",
   "execution_count": 48,
   "id": "19ab70e8",
   "metadata": {
    "ExecuteTime": {
     "end_time": "2022-05-18T23:01:44.228277Z",
     "start_time": "2022-05-18T23:01:37.531834Z"
    }
   },
   "outputs": [
    {
     "data": {
      "text/plain": [
       "10.52851910721124"
      ]
     },
     "execution_count": 48,
     "metadata": {},
     "output_type": "execute_result"
    }
   ],
   "source": [
    "y_train = data_jan['duration'].values\n",
    "\n",
    "lr = LinearRegression()\n",
    "lr.fit(X_train, y_train)\n",
    "\n",
    "y_pred = lr.predict(X_train)\n",
    "mean_squared_error(y_train, y_pred, squared=False)"
   ]
  },
  {
   "cell_type": "markdown",
   "id": "8611ff14",
   "metadata": {},
   "source": [
    "# 6"
   ]
  },
  {
   "cell_type": "code",
   "execution_count": 59,
   "id": "cc794a19",
   "metadata": {
    "ExecuteTime": {
     "end_time": "2022-05-18T23:31:45.137410Z",
     "start_time": "2022-05-18T23:31:25.991622Z"
    }
   },
   "outputs": [
    {
     "name": "stderr",
     "output_type": "stream",
     "text": [
      "/var/folders/jm/ylt5qtrs5c198x9c0h3vxmm00000gn/T/ipykernel_65748/687219423.py:1: SettingWithCopyWarning: \n",
      "A value is trying to be set on a copy of a slice from a DataFrame.\n",
      "Try using .loc[row_indexer,col_indexer] = value instead\n",
      "\n",
      "See the caveats in the documentation: https://pandas.pydata.org/pandas-docs/stable/user_guide/indexing.html#returning-a-view-versus-a-copy\n",
      "  data_feb['duration'] = data_feb.apply(\n"
     ]
    },
    {
     "data": {
      "text/plain": [
       "11.014283199597337"
      ]
     },
     "execution_count": 59,
     "metadata": {},
     "output_type": "execute_result"
    }
   ],
   "source": [
    "data_feb['duration'] = data_feb.apply(\n",
    "    lambda x: (x['dropOff_datetime'] - x['pickup_datetime']).total_seconds() / 60, axis=1\n",
    ")\n",
    "\n",
    "data_feb = data_feb[(data_feb['duration'] >= 1) & (data_feb['duration'] <= 60)]\n",
    "\n",
    "data_feb['PUlocationID'] = data_feb['PUlocationID'].fillna('-1')\n",
    "data_feb['DOlocationID'] = data_feb['DOlocationID'].fillna('-1')\n",
    "\n",
    "categorical = ['PUlocationID', 'DOlocationID']\n",
    "data_feb[categorical] = data_feb[categorical].astype(str)\n",
    "test_dicts = data_feb[categorical].to_dict(orient='records')\n",
    "\n",
    "X_test = dv.transform(test_dicts)\n",
    "y_test = data_feb['duration'].values\n",
    "\n",
    "y_pred = lr.predict(X_test)\n",
    "mean_squared_error(y_test, y_pred, squared=False)"
   ]
  }
 ],
 "metadata": {
  "hide_input": false,
  "kernelspec": {
   "display_name": "Python 3 (ipykernel)",
   "language": "python",
   "name": "python3"
  },
  "language_info": {
   "codemirror_mode": {
    "name": "ipython",
    "version": 3
   },
   "file_extension": ".py",
   "mimetype": "text/x-python",
   "name": "python",
   "nbconvert_exporter": "python",
   "pygments_lexer": "ipython3",
   "version": "3.9.7"
  },
  "varInspector": {
   "cols": {
    "lenName": 16,
    "lenType": 16,
    "lenVar": 40
   },
   "kernels_config": {
    "python": {
     "delete_cmd_postfix": "",
     "delete_cmd_prefix": "del ",
     "library": "var_list.py",
     "varRefreshCmd": "print(var_dic_list())"
    },
    "r": {
     "delete_cmd_postfix": ") ",
     "delete_cmd_prefix": "rm(",
     "library": "var_list.r",
     "varRefreshCmd": "cat(var_dic_list()) "
    }
   },
   "types_to_exclude": [
    "module",
    "function",
    "builtin_function_or_method",
    "instance",
    "_Feature"
   ],
   "window_display": false
  }
 },
 "nbformat": 4,
 "nbformat_minor": 5
}
